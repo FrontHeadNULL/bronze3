{
 "cells": [
  {
   "cell_type": "markdown",
   "metadata": {},
   "source": [
    "### Day03 (2/21) - 2083번_럭비클럽"
   ]
  },
  {
   "cell_type": "code",
   "execution_count": 3,
   "metadata": {},
   "outputs": [
    {
     "name": "stdout",
     "output_type": "stream",
     "text": [
      "Joe Junior\n",
      "Bill Senior\n",
      "Billy Senior\n",
      "Sam Senior\n"
     ]
    }
   ],
   "source": [
    "# 무한반복문 시작하고, 특정 조건에서 반복문 빠져나가기\n",
    "while True:\n",
    "    member = input().split()    # 입력받은 문자열 공백 기준으로 split()하여 나누고, 리스트에 담기\n",
    "    name = member[0]        # member의 첫 번째 요소를 name 변수에 할당\n",
    "    age = int(member[1])    # member의 두 번째 요소를 age 변수에 할당\n",
    "    kg = int(member[2])     # member의 세 번째 요소를 kg 변수에 할당\n",
    "\n",
    "    # 이름 조건이 isalpha() -> 알파벳으로만 이루어져있고, 길이가 len() 10 이하인 조건\n",
    "    if name.isalpha() and len(name) <= 10:\n",
    "        if age > 17 or kg >= 80:    # age가 17이상이고, 무게가 80kg 이상이면 \"Senior\" 해당\n",
    "            print(name, 'Senior')\n",
    "        else:\n",
    "            print(name, 'Junior')   # 그렇지 않다면 \"Junior\"\n",
    "    else:\n",
    "        break   # 입력된 조건에서 이름이 알파벳이 아니거나 길이가 10을 초과하면 break로 반복문 탈출!"
   ]
  }
 ],
 "metadata": {
  "kernelspec": {
   "display_name": "Python 3",
   "language": "python",
   "name": "python3"
  },
  "language_info": {
   "codemirror_mode": {
    "name": "ipython",
    "version": 3
   },
   "file_extension": ".py",
   "mimetype": "text/x-python",
   "name": "python",
   "nbconvert_exporter": "python",
   "pygments_lexer": "ipython3",
   "version": "3.12.1"
  }
 },
 "nbformat": 4,
 "nbformat_minor": 2
}
